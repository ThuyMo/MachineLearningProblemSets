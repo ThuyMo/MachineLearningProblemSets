{
 "cells": [
  {
   "cell_type": "markdown",
   "metadata": {
    "colab_type": "text",
    "id": "kL9VPYin9nOD"
   },
   "source": [
    "![](https://i.imgur.com/0AUxkXt.png)\n",
    "\n",
    "# SF Salaries Exercise \n",
    "\n",
    "Explore San Francisco city employee salary data.\n",
    "\n",
    "## Overview\n",
    "\n",
    "One way to understand how a city government works is by looking at who it employs and how its employees are compensated. This data contains the names, job title, and compensation for San Francisco city employees on an annual basis from 2011 to 2014.\n",
    "\n",
    "\n",
    "\n",
    "Just follow along and complete the tasks outlined in bold below. The tasks will get harder and harder as you go along.\n",
    "\n",
    "## Resourses\n",
    "\n",
    "[Pandas API Reference](https://pandas.pydata.org/pandas-docs/stable/api.html)\n",
    "\n",
    "[NumPy Reference](https://docs.scipy.org/doc/numpy/reference/)\n",
    "\n",
    "[Visualization with Seaborn](https://jakevdp.github.io/PythonDataScienceHandbook/04.14-visualization-with-seaborn.html)\n"
   ]
  },
  {
   "cell_type": "markdown",
   "metadata": {
    "colab_type": "text",
    "id": "ueY1PMBl9nOF"
   },
   "source": [
    "**Import libraries**"
   ]
  },
  {
   "cell_type": "code",
   "execution_count": 1,
   "metadata": {
    "colab": {},
    "colab_type": "code",
    "id": "dnwk5LCx9nOG"
   },
   "outputs": [],
   "source": [
    "# import thư viện pandas để thực hiện các tác vụ với dataframe\n",
    "import pandas as pd\n",
    "import seaborn as sns"
   ]
  },
  {
   "cell_type": "markdown",
   "metadata": {
    "colab_type": "text",
    "id": "jiOt1hEM9nOJ"
   },
   "source": [
    "**Read `Salaries.csv` as a dataframe called `sal`.**"
   ]
  },
  {
   "cell_type": "code",
   "execution_count": 2,
   "metadata": {
    "colab": {},
    "colab_type": "code",
    "id": "FtA68BoY9nOJ"
   },
   "outputs": [],
   "source": [
    "# link = \"https://s3-ap-southeast-1.amazonaws.com/intro-to-ml-minhdh/Salaries.csv\"\n",
    "# Đọc file csv lên bằng thư viện pandas hỗ trợ\n",
    "sal = pd.read_csv(\"https://s3-ap-southeast-1.amazonaws.com/intro-to-ml-minhdh/Salaries.csv\")"
   ]
  },
  {
   "cell_type": "markdown",
   "metadata": {
    "colab_type": "text",
    "id": "QW6hV4iv9nOM"
   },
   "source": [
    "**Check the head of the DataFrame.**"
   ]
  },
  {
   "cell_type": "code",
   "execution_count": 28,
   "metadata": {
    "colab": {},
    "colab_type": "code",
    "id": "oa2JHHJ99nON"
   },
   "outputs": [
    {
     "data": {
      "text/html": [
       "<div>\n",
       "<style scoped>\n",
       "    .dataframe tbody tr th:only-of-type {\n",
       "        vertical-align: middle;\n",
       "    }\n",
       "\n",
       "    .dataframe tbody tr th {\n",
       "        vertical-align: top;\n",
       "    }\n",
       "\n",
       "    .dataframe thead th {\n",
       "        text-align: right;\n",
       "    }\n",
       "</style>\n",
       "<table border=\"1\" class=\"dataframe\">\n",
       "  <thead>\n",
       "    <tr style=\"text-align: right;\">\n",
       "      <th></th>\n",
       "      <th>Id</th>\n",
       "      <th>EmployeeName</th>\n",
       "      <th>JobTitle</th>\n",
       "      <th>BasePay</th>\n",
       "      <th>OvertimePay</th>\n",
       "      <th>OtherPay</th>\n",
       "      <th>Benefits</th>\n",
       "      <th>TotalPay</th>\n",
       "      <th>TotalPayBenefits</th>\n",
       "      <th>Year</th>\n",
       "      <th>Notes</th>\n",
       "      <th>Agency</th>\n",
       "      <th>Status</th>\n",
       "    </tr>\n",
       "  </thead>\n",
       "  <tbody>\n",
       "    <tr>\n",
       "      <th>0</th>\n",
       "      <td>1</td>\n",
       "      <td>NATHANIEL FORD</td>\n",
       "      <td>GENERAL MANAGER-METROPOLITAN TRANSIT AUTHORITY</td>\n",
       "      <td>167411.18</td>\n",
       "      <td>0.00</td>\n",
       "      <td>400184.25</td>\n",
       "      <td>NaN</td>\n",
       "      <td>567595.43</td>\n",
       "      <td>567595.43</td>\n",
       "      <td>2011</td>\n",
       "      <td>NaN</td>\n",
       "      <td>San Francisco</td>\n",
       "      <td>NaN</td>\n",
       "    </tr>\n",
       "    <tr>\n",
       "      <th>1</th>\n",
       "      <td>2</td>\n",
       "      <td>GARY JIMENEZ</td>\n",
       "      <td>CAPTAIN III (POLICE DEPARTMENT)</td>\n",
       "      <td>155966.02</td>\n",
       "      <td>245131.88</td>\n",
       "      <td>137811.38</td>\n",
       "      <td>NaN</td>\n",
       "      <td>538909.28</td>\n",
       "      <td>538909.28</td>\n",
       "      <td>2011</td>\n",
       "      <td>NaN</td>\n",
       "      <td>San Francisco</td>\n",
       "      <td>NaN</td>\n",
       "    </tr>\n",
       "    <tr>\n",
       "      <th>2</th>\n",
       "      <td>3</td>\n",
       "      <td>ALBERT PARDINI</td>\n",
       "      <td>CAPTAIN III (POLICE DEPARTMENT)</td>\n",
       "      <td>212739.13</td>\n",
       "      <td>106088.18</td>\n",
       "      <td>16452.60</td>\n",
       "      <td>NaN</td>\n",
       "      <td>335279.91</td>\n",
       "      <td>335279.91</td>\n",
       "      <td>2011</td>\n",
       "      <td>NaN</td>\n",
       "      <td>San Francisco</td>\n",
       "      <td>NaN</td>\n",
       "    </tr>\n",
       "    <tr>\n",
       "      <th>3</th>\n",
       "      <td>4</td>\n",
       "      <td>CHRISTOPHER CHONG</td>\n",
       "      <td>WIRE ROPE CABLE MAINTENANCE MECHANIC</td>\n",
       "      <td>77916.00</td>\n",
       "      <td>56120.71</td>\n",
       "      <td>198306.90</td>\n",
       "      <td>NaN</td>\n",
       "      <td>332343.61</td>\n",
       "      <td>332343.61</td>\n",
       "      <td>2011</td>\n",
       "      <td>NaN</td>\n",
       "      <td>San Francisco</td>\n",
       "      <td>NaN</td>\n",
       "    </tr>\n",
       "    <tr>\n",
       "      <th>4</th>\n",
       "      <td>5</td>\n",
       "      <td>PATRICK GARDNER</td>\n",
       "      <td>DEPUTY CHIEF OF DEPARTMENT,(FIRE DEPARTMENT)</td>\n",
       "      <td>134401.60</td>\n",
       "      <td>9737.00</td>\n",
       "      <td>182234.59</td>\n",
       "      <td>NaN</td>\n",
       "      <td>326373.19</td>\n",
       "      <td>326373.19</td>\n",
       "      <td>2011</td>\n",
       "      <td>NaN</td>\n",
       "      <td>San Francisco</td>\n",
       "      <td>NaN</td>\n",
       "    </tr>\n",
       "  </tbody>\n",
       "</table>\n",
       "</div>"
      ],
      "text/plain": [
       "   Id       EmployeeName                                        JobTitle  \\\n",
       "0   1     NATHANIEL FORD  GENERAL MANAGER-METROPOLITAN TRANSIT AUTHORITY   \n",
       "1   2       GARY JIMENEZ                 CAPTAIN III (POLICE DEPARTMENT)   \n",
       "2   3     ALBERT PARDINI                 CAPTAIN III (POLICE DEPARTMENT)   \n",
       "3   4  CHRISTOPHER CHONG            WIRE ROPE CABLE MAINTENANCE MECHANIC   \n",
       "4   5    PATRICK GARDNER    DEPUTY CHIEF OF DEPARTMENT,(FIRE DEPARTMENT)   \n",
       "\n",
       "     BasePay  OvertimePay   OtherPay  Benefits   TotalPay  TotalPayBenefits  \\\n",
       "0  167411.18         0.00  400184.25       NaN  567595.43         567595.43   \n",
       "1  155966.02    245131.88  137811.38       NaN  538909.28         538909.28   \n",
       "2  212739.13    106088.18   16452.60       NaN  335279.91         335279.91   \n",
       "3   77916.00     56120.71  198306.90       NaN  332343.61         332343.61   \n",
       "4  134401.60      9737.00  182234.59       NaN  326373.19         326373.19   \n",
       "\n",
       "   Year  Notes         Agency  Status  \n",
       "0  2011    NaN  San Francisco     NaN  \n",
       "1  2011    NaN  San Francisco     NaN  \n",
       "2  2011    NaN  San Francisco     NaN  \n",
       "3  2011    NaN  San Francisco     NaN  \n",
       "4  2011    NaN  San Francisco     NaN  "
      ]
     },
     "execution_count": 28,
     "metadata": {},
     "output_type": "execute_result"
    }
   ],
   "source": [
    "# head có tác dựng liệt kê các dòng đầu của dataframe\n",
    "sal.head()"
   ]
  },
  {
   "cell_type": "markdown",
   "metadata": {
    "colab_type": "text",
    "id": "LgRIzJ_l9nOP"
   },
   "source": [
    "**Use the .info() method to find out how many entries there are.**"
   ]
  },
  {
   "cell_type": "code",
   "execution_count": 4,
   "metadata": {
    "colab": {},
    "colab_type": "code",
    "id": "JuwgdTfz9nOP"
   },
   "outputs": [
    {
     "name": "stdout",
     "output_type": "stream",
     "text": [
      "<class 'pandas.core.frame.DataFrame'>\n",
      "RangeIndex: 148654 entries, 0 to 148653\n",
      "Data columns (total 13 columns):\n",
      "Id                  148654 non-null int64\n",
      "EmployeeName        148654 non-null object\n",
      "JobTitle            148654 non-null object\n",
      "BasePay             148045 non-null float64\n",
      "OvertimePay         148650 non-null float64\n",
      "OtherPay            148650 non-null float64\n",
      "Benefits            112491 non-null float64\n",
      "TotalPay            148654 non-null float64\n",
      "TotalPayBenefits    148654 non-null float64\n",
      "Year                148654 non-null int64\n",
      "Notes               0 non-null float64\n",
      "Agency              148654 non-null object\n",
      "Status              0 non-null float64\n",
      "dtypes: float64(8), int64(2), object(3)\n",
      "memory usage: 14.7+ MB\n"
     ]
    }
   ],
   "source": [
    "#  sử dựng info để biết được các đối tượng có trong dataframe\n",
    "sal.info()"
   ]
  },
  {
   "cell_type": "markdown",
   "metadata": {
    "colab_type": "text",
    "id": "RgO49aNW9nOR"
   },
   "source": [
    "**What is the average BasePay ?**\n",
    "\n",
    "Keyword: [mean](https://pandas.pydata.org/pandas-docs/stable/generated/pandas.DataFrame.mean.html)"
   ]
  },
  {
   "cell_type": "code",
   "execution_count": 8,
   "metadata": {
    "colab": {},
    "colab_type": "code",
    "id": "twQu_3xj9nOS"
   },
   "outputs": [
    {
     "data": {
      "text/plain": [
       "66325.4488404877"
      ]
     },
     "execution_count": 8,
     "metadata": {},
     "output_type": "execute_result"
    }
   ],
   "source": [
    "# Tính trung bình các giá trị trong cột BasePay bằng hàm mean\n",
    "sal['BasePay'].mean()"
   ]
  },
  {
   "cell_type": "markdown",
   "metadata": {
    "colab_type": "text",
    "id": "qQc-OERD9nOU"
   },
   "source": [
    "**What is the lowest and highest amount of BasePay?**\n",
    "\n",
    "Keyword: \n",
    "[min](https://pandas.pydata.org/pandas-docs/stable/generated/pandas.DataFrame.min.html) , \n",
    "[max](https://pandas.pydata.org/pandas-docs/stable/generated/pandas.DataFrame.max.html)"
   ]
  },
  {
   "cell_type": "code",
   "execution_count": 9,
   "metadata": {
    "colab": {},
    "colab_type": "code",
    "id": "22XKRdg49nOV"
   },
   "outputs": [
    {
     "name": "stdout",
     "output_type": "stream",
     "text": [
      "Giá trị nhỏ nhất trong cột BasePay là:\n"
     ]
    },
    {
     "data": {
      "text/plain": [
       "-166.01"
      ]
     },
     "execution_count": 9,
     "metadata": {},
     "output_type": "execute_result"
    }
   ],
   "source": [
    "# Tính nhỏ nhất các giá trị trong cột BasePay bằng hàm min\n",
    "print('Giá trị nhỏ nhất trong cột BasePay là:')\n",
    "sal['BasePay'].min()"
   ]
  },
  {
   "cell_type": "code",
   "execution_count": 10,
   "metadata": {
    "colab": {},
    "colab_type": "code",
    "id": "R-yPM0ZU9nOX"
   },
   "outputs": [
    {
     "name": "stdout",
     "output_type": "stream",
     "text": [
      "Giá trị lớn nhất trong cột BasePay là:\n"
     ]
    },
    {
     "data": {
      "text/plain": [
       "319275.01"
      ]
     },
     "execution_count": 10,
     "metadata": {},
     "output_type": "execute_result"
    }
   ],
   "source": [
    "# Tính lớn nhất các giá trị trong cột BasePay bằng hàm max\n",
    "print('Giá trị lớn nhất trong cột BasePay là:')\n",
    "sal['BasePay'].max()"
   ]
  },
  {
   "cell_type": "markdown",
   "metadata": {
    "colab_type": "text",
    "id": "-MdkKp6U9nOa"
   },
   "source": [
    "**How about OvertimePay in the dataset? What is the average, lowest, highest amount?**"
   ]
  },
  {
   "cell_type": "code",
   "execution_count": 13,
   "metadata": {
    "colab": {},
    "colab_type": "code",
    "id": "Og2yxCil9nOb"
   },
   "outputs": [
    {
     "name": "stdout",
     "output_type": "stream",
     "text": [
      "Giá trị trung bình của các giá trị trong cột OvertimePay: 5066.059886444667\n",
      "Giá trị nhỏ nhất trong cột OvertimePay là: -0.01\n",
      "Giá trị lớn nhất trong cột OvertimePay là: 245131.88\n"
     ]
    }
   ],
   "source": [
    "# Tính trung bình các giá trị trong cột OvertimePay bằng hàm mean\n",
    "print('Giá trị trung bình của các giá trị trong cột OvertimePay:',sal['OvertimePay'].mean())\n",
    "\n",
    "# Tính nhỏ nhất các giá trị trong cột OvertimePay bằng hàm min\n",
    "print('Giá trị nhỏ nhất trong cột OvertimePay là:',sal['OvertimePay'].min())\n",
    "\n",
    "# Tính lớn nhất các giá trị trong cột BasePay bằng hàm max\n",
    "print('Giá trị lớn nhất trong cột OvertimePay là:',sal['OvertimePay'].max())\n",
    "\n"
   ]
  },
  {
   "cell_type": "markdown",
   "metadata": {
    "colab_type": "text",
    "id": "mF0zrXXh9nOf"
   },
   "source": [
    "**What is the job title of  JOSEPH DRISCOLL ? Note: Use all caps, otherwise you may get an answer that doesn't match up (there is also a lowercase Joseph Driscoll).**"
   ]
  },
  {
   "cell_type": "code",
   "execution_count": 29,
   "metadata": {
    "colab": {},
    "colab_type": "code",
    "id": "wbqO05iu9nOh"
   },
   "outputs": [
    {
     "data": {
      "text/plain": [
       "24    CAPTAIN, FIRE SUPPRESSION\n",
       "Name: JobTitle, dtype: object"
      ]
     },
     "execution_count": 29,
     "metadata": {},
     "output_type": "execute_result"
    }
   ],
   "source": [
    "# Tạo ra bản dataframe khác vì sao hàm tìm bên dưới các giá trị của dataframe sẽ bị biến đổi\n",
    "sal1=sal.copy()\n",
    "# Dùng hàm where để tìm các EmployeeName có tên JOSEPH DRISCOLL sau đó lọc lại các giá trị khác na và lấy cột JobTitle\n",
    "(sal1['JobTitle'].where(sal1['EmployeeName'] =='JOSEPH DRISCOLL')).dropna()\n"
   ]
  },
  {
   "cell_type": "code",
   "execution_count": 286,
   "metadata": {
    "colab": {},
    "colab_type": "code",
    "id": "MwzxTlI29nOl"
   },
   "outputs": [
    {
     "data": {
      "text/plain": [
       "1    CAPTAIN III (POLICE DEPARTMENT)\n",
       "Name: JobTitle, dtype: object"
      ]
     },
     "execution_count": 286,
     "metadata": {},
     "output_type": "execute_result"
    }
   ],
   "source": [
    "# Now try to select Employees who have name \"GARY JIMENEZ\"\n",
    "# Your code here\n",
    "# Lấy các giá trị cột EmployeeName so sánh với GARY JIMENEZ\n",
    "s=sal[sal['EmployeeName']=='GARY JIMENEZ']\n",
    "# Lấy giá trị cột JobTitle\n",
    "s['JobTitle']"
   ]
  },
  {
   "cell_type": "markdown",
   "metadata": {
    "colab_type": "text",
    "id": "0nrHI4iu9nOn"
   },
   "source": [
    "**How much does JOSEPH DRISCOLL make (including benefits)?**"
   ]
  },
  {
   "cell_type": "code",
   "execution_count": 292,
   "metadata": {
    "colab": {},
    "colab_type": "code",
    "id": "TUZlBSDE9nOo"
   },
   "outputs": [
    {
     "name": "stdout",
     "output_type": "stream",
     "text": [
      "Số lượng JOSEPH DRISCOLL la: 2\n"
     ]
    }
   ],
   "source": [
    "# Lọc ra các đối tượng có tên là JOSEPH DRISCOLL(không phân biệt hoa/thường bằng cách chueyenr về chữ thường rồi so sánh)\n",
    "a=sal[sal['EmployeeName'].str.lower() =='JOSEPH DRISCOLL'.lower()]\n",
    "# Đếm số lượng dòng trả về để được số lượng JOSEPH DRISCOLL \n",
    "print('Số lượng JOSEPH DRISCOLL la:',a['Id'].count())\n"
   ]
  },
  {
   "cell_type": "markdown",
   "metadata": {
    "colab_type": "text",
    "id": "1thjd2GC9nOq"
   },
   "source": [
    "**What is the name of highest paid person (including benefits)?**"
   ]
  },
  {
   "cell_type": "code",
   "execution_count": 300,
   "metadata": {
    "colab": {},
    "colab_type": "code",
    "id": "msrq-7Ww9nOr"
   },
   "outputs": [
    {
     "name": "stdout",
     "output_type": "stream",
     "text": [
      "Người có lương cao nhất là: NATHANIEL FORD\n"
     ]
    }
   ],
   "source": [
    "# Lọc ra những người có lương bằng với lương lớn nhất\n",
    "a=sal[sal['TotalPay'] ==sal['TotalPay'].max()]\n",
    "# Gán cột EmployeeName để xuất kết quả mong muốn\n",
    "kq=a['EmployeeName']\n",
    "print('Người có lương cao nhất là:',kq[0])\n"
   ]
  },
  {
   "cell_type": "markdown",
   "metadata": {
    "colab_type": "text",
    "id": "uF2kX93x9nOu"
   },
   "source": [
    "**What is the name of lowest paid person (including benefits)? Do you notice something strange about how much he or she is paid?**"
   ]
  },
  {
   "cell_type": "code",
   "execution_count": 306,
   "metadata": {
    "colab": {},
    "colab_type": "code",
    "id": "htAfatTl9nOv"
   },
   "outputs": [
    {
     "name": "stdout",
     "output_type": "stream",
     "text": [
      "Người có lương thấp nhất là:\n"
     ]
    },
    {
     "data": {
      "text/plain": [
       "148653    Joe Lopez\n",
       "Name: EmployeeName, dtype: object"
      ]
     },
     "execution_count": 306,
     "metadata": {},
     "output_type": "execute_result"
    }
   ],
   "source": [
    "# Lọc ra những người có lương bằng với lương thấp nhất\n",
    "a=sal1[sal1['TotalPay'] ==sal1['TotalPay'].min()]\n",
    "# Gán cột EmployeeName để xuất kết quả mong muốn\n",
    "kq=a['EmployeeName']\n",
    "print('Người có lương thấp nhất là:')\n",
    "kq"
   ]
  },
  {
   "cell_type": "markdown",
   "metadata": {
    "colab_type": "text",
    "id": "WB0HTvjM9nOx"
   },
   "source": [
    "**What was the average (mean) BasePay of all employees per year? (2011-2014) ?**\n",
    "Keyword: _groupby_"
   ]
  },
  {
   "cell_type": "code",
   "execution_count": 112,
   "metadata": {
    "colab": {},
    "colab_type": "code",
    "id": "6Y5mUYir9nOy"
   },
   "outputs": [
    {
     "data": {
      "text/plain": [
       "Year\n",
       "2011    63595.956517\n",
       "2012    65436.406857\n",
       "2013    69630.030216\n",
       "2014    66564.421924\n",
       "Name: BasePay, dtype: float64"
      ]
     },
     "execution_count": 112,
     "metadata": {},
     "output_type": "execute_result"
    }
   ],
   "source": [
    "# đầu tiên tiến hàng groupby cột Year theo năm rồi tính mean\n",
    "a=sal.groupby('Year').mean()\n",
    "# Lọc cột BasePay ra để được chỉ cột lương theo năm\n",
    "a['BasePay']"
   ]
  },
  {
   "cell_type": "markdown",
   "metadata": {
    "colab_type": "text",
    "id": "k8Qzx9MD9nO0"
   },
   "source": [
    "**How many unique job titles are there?**\n",
    "\n",
    "Keyword: _unique, nunique_"
   ]
  },
  {
   "cell_type": "code",
   "execution_count": 115,
   "metadata": {
    "colab": {},
    "colab_type": "code",
    "id": "mvzwZ5Mb9nO1"
   },
   "outputs": [
    {
     "name": "stdout",
     "output_type": "stream",
     "text": [
      "Giá trị unique job titles là: 2159\n"
     ]
    }
   ],
   "source": [
    "# Dùng hàm unique của pandas để lấy các giá trị duy nhất của cột jobtitle\n",
    "# sau đó lấy len để thu được số lượng unique\n",
    "print('Giá trị unique job titles là:',len(pd.unique(sal['JobTitle'])))"
   ]
  },
  {
   "cell_type": "markdown",
   "metadata": {
    "colab_type": "text",
    "id": "0dkyZe-39nO4"
   },
   "source": [
    "**What are the top 5 most common jobs?**\n",
    "\n",
    "Keyword: *value_counts*"
   ]
  },
  {
   "cell_type": "code",
   "execution_count": 137,
   "metadata": {
    "colab": {},
    "colab_type": "code",
    "id": "PVSDr3Ww9nO7"
   },
   "outputs": [
    {
     "name": "stdout",
     "output_type": "stream",
     "text": [
      "5 jobs phổ biến nhất: Transit Operator , Special Nurse , Registered Nurse , Public Svc Aide-Public Works , Police Officer 3\n"
     ]
    }
   ],
   "source": [
    "# Tiến hành groupby cột JobTitle và dùng hàm count đếm số lượng từng job\n",
    "a=sal.groupby('JobTitle').count()\n",
    "# sau đó lấy giá trị vừa đếm đi xếp giảm dần và lấy 5 giá trị đầu để được 5 jobs phổ biến nhất\n",
    "a=a.sort_values(['Id'],ascending=False).head(5)\n",
    "print('5 jobs phổ biến nhất:',a.index[0],',',a.index[1],',',a.index[2],',',a.index[3],',',a.index[4])\n"
   ]
  },
  {
   "cell_type": "markdown",
   "metadata": {
    "colab_type": "text",
    "id": "25fCX21U9nO-"
   },
   "source": [
    "**How many Job Titles were represented by only one person in 2013? (e.g. Job Titles with only one occurence in 2013?)**"
   ]
  },
  {
   "cell_type": "code",
   "execution_count": 314,
   "metadata": {},
   "outputs": [
    {
     "name": "stdout",
     "output_type": "stream",
     "text": [
      "Acupuncturist\n",
      "Adm, SFGH Medical Center\n",
      "Administrative Analyst I\n",
      "Administrative Analyst II\n",
      "Administrator, DPH\n",
      "Airport Communications Officer\n",
      "Airport Mechanical Maint Sprv\n",
      "Animal Care Asst Supv\n",
      "Animal Care Supervisor\n",
      "Animal Control Supervisor\n",
      "Arborist Technician Supv II\n",
      "Area Sprv Parks, Squares & Fac\n",
      "Asphalt Plant Supervisor 1\n",
      "Assessor\n",
      "Assistant Director, Probate\n",
      "Assistant Industrial Hygienist\n",
      "Assistant Inspector\n",
      "Assistant Inspector 2\n",
      "Assistant Law Librarian\n",
      "Assistant Power House Operator\n",
      "Assistant Sheriff\n",
      "Assoc Musm Cnsrvt, AAM\n",
      "Asst Chf, Bur Clm Invest&Admin\n",
      "Asst Dir of Clinical Svcs 1\n",
      "Asst Dir, Log Cabin Rnch\n",
      "Asst Director, Juvenile Hall\n",
      "Asst Superintendent Rec\n",
      "Attorney, Tax Collector\n",
      "Auto Body & Fender Wrk Sprv 1\n",
      "Baker\n",
      "Bd/Comm Secretary 3\n",
      "Board Scty, MTA\n",
      "Braillist\n",
      "Captain, (Fire Department)\n",
      "Cement Finisher Supervisor 2\n",
      "Cfdntal Sctry to City Atty\n",
      "Chf District Atty Investigator\n",
      "Chf Victim/Witness Invstgtor\n",
      "Chief Adult Probation Officer\n",
      "Chief Dep Adlt Prob Of (SFERS)\n",
      "Chief Deputy Adlt Probation Of\n",
      "Chief Electrical Inspector\n",
      "Chief Fire Alarm Dispatcher\n",
      "Chief Housing Inspector\n",
      "Chief Nursery Specialist\n",
      "Chief Plumbing Inspector\n",
      "Chief Telephone Operator\n",
      "Chief of Police\n",
      "Chief, Fire Department\n",
      "City Attorney\n",
      "City Shops Asst Superintendent\n",
      "Civil Case Settlmnt Specialist\n",
      "Claims Process Clerk\n",
      "Communications Director\n",
      "Conservatorship/Case Mgt Sprv\n",
      "Controller\n",
      "Court Asst-Sr, Superior Court\n",
      "Court Asst., Superior Court\n",
      "Court Clerk\n",
      "Court Executive Officer\n",
      "Court Interpreter Supervisor\n",
      "Court Reporter Coordinator\n",
      "Crane Mechanic Supervisor\n",
      "Crime Lab Mgr\n",
      "Dep Dir for Investments, Ret\n",
      "Depty Sealer of Weights & Meas\n",
      "Dir Emp Relations Div\n",
      "Dir, Log Cabin Ranch (SFERS)\n",
      "Director, Fiscal Services\n",
      "Director, Human Resources\n",
      "Director, Info Tech Group\n",
      "Director, Juvenile Hall\n",
      "Director, Probate\n",
      "Director, Probation Services\n",
      "Disability Access Coordinator\n",
      "District Attorney\n",
      "Drug Court Coordinator\n",
      "Electric Motor Repair Sprv 1\n",
      "Electroencephalograph Tech 1\n",
      "Emergency Medical Svcs Chief\n",
      "Emergency Services Assistant\n",
      "Emergency Services Coord I\n",
      "Employee Assistance Counselor\n",
      "Employment & Training Spec 6\n",
      "Environmental Hlth Tech 2\n",
      "Ex Asst to Ex Dir, Retirement\n",
      "Ex Asst to the Controller\n",
      "Ex Dir, SE Com Fac Comm\n",
      "Farmer\n",
      "Feasibility Analyst, Port\n",
      "Field Svcs Asst Supv\n",
      "Forensic Toxicologist\n",
      "Gen Mgr, Public Trnsp Dept\n",
      "Glazier Supervisor 1\n",
      "Graphics Supervisor\n",
      "Head Photographer\n",
      "Human Resources Director\n",
      "IS Operator-Analyst\n",
      "IS Operator-Journey\n",
      "IS Technician Assistant\n",
      "IS Trainer-Senior\n",
      "Industrial Engineer\n",
      "Junior Clerk Typist\n",
      "Laboratory Technician I\n",
      "Law Librarian\n",
      "Legislation Clerk\n",
      "Librarian 2 - Asian Arts\n",
      "Managing Attorney\n",
      "Market Research Spec, Port\n",
      "Materials/Supplies Supervisor\n",
      "Mayor\n",
      "Mayoral Staff VII\n",
      "Mayoral Staff X\n",
      "Mayoral Staff XII\n",
      "Mech Shop & Equip Supt\n",
      "Media Production Specialist\n",
      "Media Programming Spec\n",
      "Media Training Specialist\n",
      "Media/Security Syst Supv\n",
      "Mental Health Hearing Officer\n",
      "Metalsmith\n",
      "Mgr Museum Security Services\n",
      "Municipal Stadium Groundskpr\n",
      "Operating Room Nurse\n",
      "Ornamental Iron Wrk Sprv 1\n",
      "Orthopedic Technician 1\n",
      "Orthopedic Technician 2\n",
      "Painter Supervisor 2\n",
      "Parking Hearing Examiner\n",
      "Payroll Supervisor\n",
      "Performance Analyst I\n",
      "Plumber Supervisor 2\n",
      "Port Director\n",
      "Power Plant Supervisor 1\n",
      "Pr Investigator, Tax Collector\n",
      "PrDAInvest,SpecUnit (SFERS)\n",
      "Principal Museum Preparator\n",
      "Principal Real Property Ofc\n",
      "Principal Recreation Sprv\n",
      "Public Defender\n",
      "Public Safety Comm Tech\n",
      "Real Estate Devt. Mgr, SFMTA\n",
      "Rent Board Supervisor\n",
      "Research Psychologist\n",
      "Roofer Supervisor 1\n",
      "Sctry, Human Svcs. Commission\n",
      "Sctry, Juv Probation Comm\n",
      "Secretary, Comm on the Environ\n",
      "Secretary, Health Commission\n",
      "Secretary, Library Commission\n",
      "Senior Assessment Clerk\n",
      "Senior Book Repairer\n",
      "Senior Data Entry Operator\n",
      "Senior Food Service Supervisor\n",
      "Senior Morgue Attendant\n",
      "Senior Museum Preparator\n",
      "Senior Offset Machine Operator\n",
      "Senior Pharmacy Helper\n",
      "Senior Plan Checker\n",
      "Senior Psychiatric Orderly\n",
      "Senior Transcriber Typist\n",
      "Senior Transit Traffic Checker\n",
      "Shade and Drapery Worker\n",
      "Sheet Metal Wrk Supervisor 2\n",
      "Shelter Office Asst Supv\n",
      "Shelter Officer Supervisor\n",
      "Sheriff (SFERS)\n",
      "Signal and Systems Engineer\n",
      "Soft Floor Coverer Supvr I\n",
      "Special Assistant 14\n",
      "Special Assistant 15\n",
      "Special Assistant 16\n",
      "Special Assistant 21\n",
      "Specialist in Aging 2\n",
      "Sprv Adult Prob Ofc (SFERS)\n",
      "Sr Employee Asst Counselor\n",
      "Sr General Utility Mechanic\n",
      "Sr Light Rail Veh Equip Eng\n",
      "Sr Medical Transcriber Typist\n",
      "Sr Opers Mgr\n",
      "Statistician\n",
      "Sup Ct Admin Secretary\n",
      "Sup Welfare Fraud Investigator\n",
      "Supervising Parts Storekeeper\n",
      "Supply Room Attendant\n",
      "Telecommunications Tech Supv\n",
      "Track Maint Supt, Muni Railway\n",
      "Traf Signal Electrician Sup II\n",
      "Traffic Sign Manager\n",
      "Traffic Signal Operator\n",
      "Training Coordinator\n",
      "Training Technician\n",
      "Transit Paint Shop Sprv1\n",
      "Treasurer\n",
      "Trnst Power Line Wrk Sprv 2\n",
      "Undersheriff\n",
      "Vet Laboratory Technologist\n",
      "Victim & Witness Technician\n",
      "Water Meter Shop Supervisor 1\n",
      "Wharfinger 1\n",
      "Window Cleaner Supervisor\n",
      "Wire Rope Cable Maint Sprv\n"
     ]
    }
   ],
   "source": [
    "\n",
    "# Tìm các JobTitle mà có trong năm 2013\n",
    "a=sal1[sal1['Year'] ==2013]\n",
    "# Thực hiện gom nhóm để đếm số lượng mỗi JobTitle\n",
    "c=a.groupby('JobTitle').count()\n",
    "# Tạo dataframe mới để lưu job và số lượng người làm\n",
    "d=pd.DataFrame(list(zip(c.index, c['Id'])),columns =['JobTitle', 'count'])\n",
    "# Gán hai cột cho dễ thao tác bên dưới\n",
    "job=[]\n",
    "count=[]\n",
    "job=d['JobTitle']\n",
    "count=d['count']\n",
    "# Thực hiện phép so sánh nếu job nào có 1 người làm thì sẽ in ra màn hình\n",
    "for i in range(len(count)):\n",
    "    if (count[i]==1):\n",
    "        print(job[i])"
   ]
  },
  {
   "cell_type": "markdown",
   "metadata": {
    "colab_type": "text",
    "id": "HoiNghja9nPD"
   },
   "source": [
    "**How many people have the word Chief in their job title?**"
   ]
  },
  {
   "cell_type": "code",
   "execution_count": 269,
   "metadata": {
    "colab": {},
    "colab_type": "code",
    "id": "mBc0hzan9nPE"
   },
   "outputs": [
    {
     "name": "stdout",
     "output_type": "stream",
     "text": [
      "Số lượng người có thuộc Chief là: 423\n"
     ]
    }
   ],
   "source": [
    "import re\n",
    "# Sao chép một dataframe mới để thực hiện các thao tác mà không sợ làm thay đổi dataframe ban dầu\n",
    "sal1=sal.copy()\n",
    "# Gán JobTitle để dễ thực hiện tính toán\n",
    "a=sal1['JobTitle']\n",
    "# Khởi tạo biến đếm để lưu số lượng người thuộc Chief\n",
    "count=0\n",
    "# Khởi tạo vòng lặp và thực hiện so sánh xem Chief có chứa trong JobTitle nào không thì cộng biến đếm lên\n",
    "for i in range(len(a)):\n",
    "    if 'Chief' in a[i]:\n",
    "        count=count+1   \n",
    "print('Số lượng người có thuộc Chief là:',count)"
   ]
  },
  {
   "cell_type": "markdown",
   "metadata": {
    "colab_type": "text",
    "id": "5G094gws9nPL"
   },
   "source": [
    "## Data Visualization\n",
    "\n",
    "**Implement seaborn's countplot with x='Year'**"
   ]
  },
  {
   "cell_type": "code",
   "execution_count": 274,
   "metadata": {
    "colab": {},
    "colab_type": "code",
    "id": "56GKG4UD9nPM"
   },
   "outputs": [
    {
     "data": {
      "text/plain": [
       "<matplotlib.axes._subplots.AxesSubplot at 0x22e9cc25668>"
      ]
     },
     "execution_count": 274,
     "metadata": {},
     "output_type": "execute_result"
    },
    {
     "data": {
      "image/png": "[encoded data removed]",
      "text/plain": [
       "<Figure size 432x288 with 1 Axes>"
      ]
     },
     "metadata": {
      "needs_background": "light"
     },
     "output_type": "display_data"
    }
   ],
   "source": [
    "# Vẽ đồ thị cột với trục x là các năm và cột y là tổng số employee của năm đó\n",
    "sns.countplot(x='Year', data=sal)"
   ]
  },
  {
   "cell_type": "markdown",
   "metadata": {
    "colab_type": "text",
    "id": "orQACfVP9nPP"
   },
   "source": [
    "**Implement seaborn's distplot for BasePay of Year 2011**"
   ]
  },
  {
   "cell_type": "code",
   "execution_count": 279,
   "metadata": {
    "colab": {},
    "colab_type": "code",
    "id": "JYPrrLW19nPQ"
   },
   "outputs": [
    {
     "data": {
      "text/plain": [
       "<matplotlib.axes._subplots.AxesSubplot at 0x22ea47daf28>"
      ]
     },
     "execution_count": 279,
     "metadata": {},
     "output_type": "execute_result"
    },
    {
     "data": {
      "image/png": "[encoded data removed]",
      "text/plain": [
       "<Figure size 432x288 with 1 Axes>"
      ]
     },
     "metadata": {
      "needs_background": "light"
     },
     "output_type": "display_data"
    }
   ],
   "source": [
    "# Lọc tập dataframe chỉ chứa năm 2011\n",
    "s=sal[sal['Year']==2011]\n",
    "# Vẽ đồ thị distplot trên dataframe vừa lọc và xét trên cột BasePay\n",
    "sns.distplot(s['BasePay'], bins=20)"
   ]
  },
  {
   "cell_type": "markdown",
   "metadata": {
    "colab_type": "text",
    "id": "Ea9OFiqK9nPS"
   },
   "source": [
    "**How about other Year**"
   ]
  },
  {
   "cell_type": "code",
   "execution_count": 280,
   "metadata": {
    "colab": {},
    "colab_type": "code",
    "id": "orRMn0X89nPT"
   },
   "outputs": [
    {
     "data": {
      "text/plain": [
       "<matplotlib.axes._subplots.AxesSubplot at 0x22ea47a0fd0>"
      ]
     },
     "execution_count": 280,
     "metadata": {},
     "output_type": "execute_result"
    },
    {
     "data": {
      "image/png": "[encoded data removed]",
      "text/plain": [
       "<Figure size 432x288 with 1 Axes>"
      ]
     },
     "metadata": {
      "needs_background": "light"
     },
     "output_type": "display_data"
    }
   ],
   "source": [
    "# Lọc tập dataframe chứa các năm khác trừ năm 2011\n",
    "s=sal[sal['Year']!=2011]\n",
    "# Vẽ đồ thị distplot trên dataframe vừa lọc và xét trên cột BasePay\n",
    "sns.distplot(s['BasePay'], bins=20)"
   ]
  },
  {
   "cell_type": "markdown",
   "metadata": {
    "colab_type": "text",
    "id": "00EkkG_s9nPV"
   },
   "source": [
    "## Bonus\n",
    "\n",
    "**Visualize top 5 Jobs with BasePay, Benefits and OvertimePay**\n",
    "\n",
    "Keyword: *index, isin, groupby, mean, plot*"
   ]
  },
  {
   "cell_type": "code",
   "execution_count": 11,
   "metadata": {
    "colab": {},
    "colab_type": "code",
    "id": "LoZm87Bu9nPV"
   },
   "outputs": [
    {
     "data": {
      "text/html": [
       "<div>\n",
       "<style scoped>\n",
       "    .dataframe tbody tr th:only-of-type {\n",
       "        vertical-align: middle;\n",
       "    }\n",
       "\n",
       "    .dataframe tbody tr th {\n",
       "        vertical-align: top;\n",
       "    }\n",
       "\n",
       "    .dataframe thead th {\n",
       "        text-align: right;\n",
       "    }\n",
       "</style>\n",
       "<table border=\"1\" class=\"dataframe\">\n",
       "  <thead>\n",
       "    <tr style=\"text-align: right;\">\n",
       "      <th></th>\n",
       "      <th>BasePay</th>\n",
       "      <th>Benefits</th>\n",
       "      <th>OvertimePay</th>\n",
       "    </tr>\n",
       "    <tr>\n",
       "      <th>JobTitle</th>\n",
       "      <th></th>\n",
       "      <th></th>\n",
       "      <th></th>\n",
       "    </tr>\n",
       "  </thead>\n",
       "  <tbody>\n",
       "    <tr>\n",
       "      <th>Registered Nurse</th>\n",
       "      <td>3.823727e+08</td>\n",
       "      <td>1.343123e+08</td>\n",
       "      <td>15709284.39</td>\n",
       "    </tr>\n",
       "    <tr>\n",
       "      <th>Transit Operator</th>\n",
       "      <td>3.611108e+08</td>\n",
       "      <td>1.924740e+08</td>\n",
       "      <td>78403983.45</td>\n",
       "    </tr>\n",
       "    <tr>\n",
       "      <th>Police Officer 3</th>\n",
       "      <td>2.616144e+08</td>\n",
       "      <td>7.948074e+07</td>\n",
       "      <td>39748129.59</td>\n",
       "    </tr>\n",
       "    <tr>\n",
       "      <th>Firefighter</th>\n",
       "      <td>2.401020e+08</td>\n",
       "      <td>8.783758e+07</td>\n",
       "      <td>66931108.48</td>\n",
       "    </tr>\n",
       "    <tr>\n",
       "      <th>Deputy Sheriff</th>\n",
       "      <td>1.668524e+08</td>\n",
       "      <td>6.417469e+07</td>\n",
       "      <td>27702498.14</td>\n",
       "    </tr>\n",
       "  </tbody>\n",
       "</table>\n",
       "</div>"
      ],
      "text/plain": [
       "                       BasePay      Benefits  OvertimePay\n",
       "JobTitle                                                 \n",
       "Registered Nurse  3.823727e+08  1.343123e+08  15709284.39\n",
       "Transit Operator  3.611108e+08  1.924740e+08  78403983.45\n",
       "Police Officer 3  2.616144e+08  7.948074e+07  39748129.59\n",
       "Firefighter       2.401020e+08  8.783758e+07  66931108.48\n",
       "Deputy Sheriff    1.668524e+08  6.417469e+07  27702498.14"
      ]
     },
     "execution_count": 11,
     "metadata": {},
     "output_type": "execute_result"
    }
   ],
   "source": [
    "# Thực hiện gom nhóm và tính mean từng các cột cho từng Job\n",
    "a=sal.groupby('JobTitle').sum()\n",
    "# Lọc theo thứ tự giảm dần dựa trên 3 tiêu chí BasePay,Benefits,OvertimePay và lấy top 5\n",
    "a=a.sort_values(['BasePay','Benefits','OvertimePay'],ascending=False).head(5)\n",
    "# Xuất ra theo yêu cầu\n",
    "a[['BasePay','Benefits','OvertimePay']]"
   ]
  },
  {
   "cell_type": "code",
   "execution_count": 0,
   "metadata": {
    "colab": {},
    "colab_type": "code",
    "id": "C-nKGOA-9nPY",
    "outputId": "a4a94735-1f45-4d7c-dc75-3606cfd52969"
   },
   "outputs": [
    {
     "data": {
      "text/html": [
       "<div>\n",
       "<style scoped>\n",
       "    .dataframe tbody tr th:only-of-type {\n",
       "        vertical-align: middle;\n",
       "    }\n",
       "\n",
       "    .dataframe tbody tr th {\n",
       "        vertical-align: top;\n",
       "    }\n",
       "\n",
       "    .dataframe thead th {\n",
       "        text-align: right;\n",
       "    }\n",
       "</style>\n",
       "<table border=\"1\" class=\"dataframe\">\n",
       "  <thead>\n",
       "    <tr style=\"text-align: right;\">\n",
       "      <th></th>\n",
       "      <th>BasePay</th>\n",
       "      <th>Benefits</th>\n",
       "      <th>OvertimePay</th>\n",
       "    </tr>\n",
       "    <tr>\n",
       "      <th>JobTitle</th>\n",
       "      <th></th>\n",
       "      <th></th>\n",
       "      <th></th>\n",
       "    </tr>\n",
       "  </thead>\n",
       "  <tbody>\n",
       "    <tr>\n",
       "      <th>Police Officer 3</th>\n",
       "      <td>108508.662621</td>\n",
       "      <td>32829.713693</td>\n",
       "      <td>16418.062615</td>\n",
       "    </tr>\n",
       "    <tr>\n",
       "      <th>Public Svc Aide-Public Works</th>\n",
       "      <td>8091.876070</td>\n",
       "      <td>1379.748050</td>\n",
       "      <td>60.017744</td>\n",
       "    </tr>\n",
       "    <tr>\n",
       "      <th>Registered Nurse</th>\n",
       "      <td>102650.396486</td>\n",
       "      <td>35950.834170</td>\n",
       "      <td>4204.840575</td>\n",
       "    </tr>\n",
       "    <tr>\n",
       "      <th>Special Nurse</th>\n",
       "      <td>29929.166718</td>\n",
       "      <td>3210.342240</td>\n",
       "      <td>651.723372</td>\n",
       "    </tr>\n",
       "    <tr>\n",
       "      <th>Transit Operator</th>\n",
       "      <td>51772.154465</td>\n",
       "      <td>27355.597533</td>\n",
       "      <td>11143.260866</td>\n",
       "    </tr>\n",
       "  </tbody>\n",
       "</table>\n",
       "</div>"
      ],
      "text/plain": [
       "                                    BasePay      Benefits   OvertimePay\n",
       "JobTitle                                                               \n",
       "Police Officer 3              108508.662621  32829.713693  16418.062615\n",
       "Public Svc Aide-Public Works    8091.876070   1379.748050     60.017744\n",
       "Registered Nurse              102650.396486  35950.834170   4204.840575\n",
       "Special Nurse                  29929.166718   3210.342240    651.723372\n",
       "Transit Operator               51772.154465  27355.597533  11143.260866"
      ]
     },
     "execution_count": 8,
     "metadata": {
      "tags": []
     },
     "output_type": "execute_result"
    }
   ],
   "source": []
  },
  {
   "cell_type": "markdown",
   "metadata": {
    "colab_type": "text",
    "id": "V2Lz3SGu9nPc"
   },
   "source": [
    "**Fun Fact: Is there a correlation between length of the Job Title string and Salary?**\n",
    "\n",
    "*Hint: corr()*"
   ]
  },
  {
   "cell_type": "code",
   "execution_count": null,
   "metadata": {
    "colab": {},
    "colab_type": "code",
    "id": "G8SQ0NhI9nPe"
   },
   "outputs": [],
   "source": [
    "# dùng hàm corr để thấy sự tương quan giữa 2 cột  JobTitle và BasePay\n",
    "sal['JobTitle'].corr(sal['BasePay'])"
   ]
  },
  {
   "cell_type": "markdown",
   "metadata": {
    "colab_type": "text",
    "id": "gY4kMupD9nPg"
   },
   "source": [
    "# Great Job!"
   ]
  }
 ],
 "metadata": {
  "colab": {
   "collapsed_sections": [],
   "name": "DAwP_Assignment_2.ipynb",
   "provenance": []
  },
  "kernelspec": {
   "display_name": "Python 3",
   "language": "python",
   "name": "python3"
  },
  "language_info": {
   "codemirror_mode": {
    "name": "ipython",
    "version": 3
   },
   "file_extension": ".py",
   "mimetype": "text/x-python",
   "name": "python",
   "nbconvert_exporter": "python",
   "pygments_lexer": "ipython3",
   "version": "3.6.5"
  }
 },
 "nbformat": 4,
 "nbformat_minor": 1
}
